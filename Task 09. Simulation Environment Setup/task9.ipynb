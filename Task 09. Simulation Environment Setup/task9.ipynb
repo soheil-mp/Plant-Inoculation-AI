{
 "cells": [
  {
   "cell_type": "markdown",
   "metadata": {},
   "source": [
    "# Find Working Envelope\n",
    "\n",
    "For this task you will need to demonstrate your ability to give the robot commands and receive observations about the robots state. You will also need to determine what the working envelope for the tip of the pipette is.\n",
    "\n",
    "To determine the working envelope you will need to move the the pipette to each corner of the cube that forms the working envelope by adjusting the motor velocities for each axis and recording the co-ordinates at each of the 8 points.\n",
    "\n",
    "Deliverables\n",
    "- A README.md file describing the environment set up complete with a list of dependancies. Also include the working Envelope of the pipette in this file.\n",
    "- Well documented code running a simulation in which commands are sent to the robot and observations are returned.\n",
    "- Optional: A GIF of the robot responding to commands and printing the observations."
   ]
  },
  {
   "cell_type": "code",
   "execution_count": 1,
   "metadata": {},
   "outputs": [],
   "source": [
    "import os\n",
    "import time\n",
    "os.chdir(\"./Y2B-2023-OT2_Twin\")\n",
    "from sim_class import Simulation\n",
    "import matplotlib.pyplot as plt\n",
    "import cv2\n",
    "import numpy as np"
   ]
  },
  {
   "cell_type": "code",
   "execution_count": 2,
   "metadata": {},
   "outputs": [
    {
     "data": {
      "text/plain": [
       "<sim_class.Simulation at 0x2dc3108c680>"
      ]
     },
     "execution_count": 2,
     "metadata": {},
     "output_type": "execute_result"
    }
   ],
   "source": [
    "# Initialize simulation with 1 robot and GUI rendering\n",
    "sim = Simulation(num_agents=1, render=True, rgb_array=True)\n",
    "sim"
   ]
  },
  {
   "cell_type": "code",
   "execution_count": 3,
   "metadata": {},
   "outputs": [
    {
     "data": {
      "text/plain": [
       "1"
      ]
     },
     "execution_count": 3,
     "metadata": {},
     "output_type": "execute_result"
    }
   ],
   "source": [
    "# Get robot ID\n",
    "robotId = sim.robotIds[0]\n",
    "robotId"
   ]
  },
  {
   "cell_type": "code",
   "execution_count": 10,
   "metadata": {},
   "outputs": [],
   "source": [
    "def get_states(sim, robotId):\n",
    "    \"\"\"\n",
    "    Get the current state information for a robot in the simulation.\n",
    "    \n",
    "    Args:\n",
    "        sim (Simulation): The simulation instance\n",
    "        robotId (int): ID of the robot to get states for\n",
    "        \n",
    "    Returns:\n",
    "        dict: Dictionary containing:\n",
    "            - robot_position: [x,y,z] position of robot base (rounded to 3 decimals)\n",
    "            - pipette_position: [x,y,z] position of pipette tip (rounded to 3 decimals)\n",
    "            - joint_positions: List of 3 joint angles in radians (rounded to 3 decimals)\n",
    "            - joint_velocities: List of 3 joint velocities in rad/s (rounded to 3 decimals)\n",
    "    \"\"\"\n",
    "    # Get full state dictionary for the specified robot\n",
    "    states = sim.get_states()[f\"robotId_{robotId}\"]\n",
    "    \n",
    "    # Extract and round robot base position coordinates\n",
    "    robot_position = states[\"robot_position\"]\n",
    "    robot_position = [round(x, 4) for x in robot_position]  # Round to mm precision\n",
    "    \n",
    "    # Extract and round pipette tip position coordinates\n",
    "    pipette_position = states[\"pipette_position\"] \n",
    "    pipette_position = [round(x, 4) for x in pipette_position]\n",
    "    \n",
    "    # Get positions of the 3 robot joints (shoulder, elbow, wrist)\n",
    "    # Rounds joint angles to 4 decimal places\n",
    "    joint_positions = [states[\"joint_states\"][f\"joint_{i}\"][\"position\"] for i in range(3)]\n",
    "    joint_positions = [round(x, 4) for x in joint_positions]\n",
    "    \n",
    "    # Get velocities of the 3 robot joints\n",
    "    # Rounds velocities to 4 decimal places for readability\n",
    "    joint_velocities = [states[\"joint_states\"][f\"joint_{i}\"][\"velocity\"] for i in range(3)]\n",
    "    joint_velocities = [round(x, 4) for x in joint_velocities]\n",
    "    \n",
    "    # Return dictionary with all state information\n",
    "    return {\n",
    "        \"robot_position\": robot_position,      # [x,y,z] coordinates of robot base\n",
    "        \"pipette_position\": pipette_position,  # [x,y,z] coordinates of pipette tip\n",
    "        \"joint_positions\": joint_positions,    # List of 3 joint angles in radians  \n",
    "        \"joint_velocities\": joint_velocities   # List of 3 joint velocities in rad/s\n",
    "    }"
   ]
  },
  {
   "cell_type": "code",
   "execution_count": 12,
   "metadata": {},
   "outputs": [],
   "source": [
    "def move_to_target(sim, robotId, target_position, velocity_scale=0.1, tolerance=0.001, timeout=20):\n",
    "\n",
    "    \"\"\"\n",
    "    Move the robot to a target position using velocity control with timeout.\n",
    "    \n",
    "    This function combines position control and timeout monitoring into a single optimized \n",
    "    implementation. It uses normalized velocities scaled by distance to smoothly move the \n",
    "    robot while checking for both position achievement and timeout conditions.\n",
    "\n",
    "    Args:\n",
    "        sim (Simulation): The simulation instance\n",
    "        robotId (int): ID of the robot to move\n",
    "        target_position (list): [x, y, z] target position coordinates\n",
    "        velocity_scale (float): Scale factor for velocities (default: 0.1)\n",
    "        tolerance (float): Distance tolerance for considering position reached (default: 0.001)\n",
    "        timeout (float): Maximum time in seconds to attempt movement (default: 20)\n",
    "\n",
    "    Returns:\n",
    "        bool: True if target reached successfully, False if timeout occurred\n",
    "    \"\"\"\n",
    "    start_time = time.time()\n",
    "    \n",
    "    while True:\n",
    "\n",
    "        # Get current position and calculate distance vector to target\n",
    "        current_position = get_states(sim, robotId)[\"pipette_position\"]\n",
    "        distance_vector = [t - c for t, c in zip(target_position, current_position)]\n",
    "        \n",
    "        # Check if target reached within tolerance\n",
    "        if all(abs(d) < tolerance for d in distance_vector):\n",
    "            return True\n",
    "            \n",
    "        # Check timeout condition\n",
    "        if time.time() - start_time > timeout:\n",
    "            return False\n",
    "            \n",
    "        # Calculate normalized velocities scaled by distance\n",
    "        max_distance = max(abs(d) for d in distance_vector)\n",
    "        if max_distance > 0:\n",
    "            # Scale velocities proportionally to distance while maintaining direction\n",
    "            velocities = [d * velocity_scale * 10 / max_distance for d in distance_vector]\n",
    "        else:\n",
    "            velocities = [0, 0, 0]\n",
    "            \n",
    "        # Execute movement step (x_vel, y_vel, z_vel, drop)\n",
    "        movement = velocities + [0]  # No drop command\n",
    "        sim.run([movement], num_steps=1)\n",
    "        \n",
    "        # Small delay to prevent CPU overload\n",
    "        time.sleep(0.01)"
   ]
  },
  {
   "cell_type": "code",
   "execution_count": 2,
   "metadata": {},
   "outputs": [
    {
     "name": "stdout",
     "output_type": "stream",
     "text": [
      "Working envelope (x_min, x_max, y_min, y_max, z_min, z_max): (-0.1871, 0.253, -0.1705, 0.2195, 0.1195, 0.2895)\n"
     ]
    }
   ],
   "source": [
    "def find_working_envelope(sim):\n",
    "    \"\"\"\n",
    "    Find the working envelope (reachable space) of the robot by systematically testing movement \n",
    "    to points in a cubic grid and recording the actual achieved positions.\n",
    "    \n",
    "    The function tests movement to 27 points in a 3x3x3 grid spanning a cubic workspace.\n",
    "    For each axis, it records the minimum and maximum positions actually reached by the robot,\n",
    "    which defines the boundaries of the working envelope.\n",
    "    \n",
    "    Args:\n",
    "        sim (Simulation): The simulation instance containing the robot\n",
    "        \n",
    "    Returns:\n",
    "        tuple: Contains the minimum and maximum reachable positions for each axis\n",
    "               in the order (x_min, x_max, y_min, y_max, z_min, z_max)\n",
    "    \n",
    "    Note:\n",
    "        - Uses normalized workspace coordinates from -1 to 1\n",
    "        - Tests fewer points than a full workspace analysis but gives a good approximation\n",
    "        - Actual reachable positions may differ from target positions due to robot constraints\n",
    "    \"\"\"\n",
    "    # Define the workspace boundaries to test\n",
    "    # Using normalized -1 to 1 range which will be mapped to actual robot workspace\n",
    "    min_val, max_val = -1, 1\n",
    "    \n",
    "    # Get the ID of the first robot in the simulation\n",
    "    robotId = sim.robotIds[0]\n",
    "\n",
    "    # Initialize variables to track the envelope boundaries\n",
    "    # These will store the actual achieved positions at the extremes\n",
    "    x_max, x_min = None, None  # X-axis boundaries\n",
    "    y_max, y_min = None, None  # Y-axis boundaries \n",
    "    z_max, z_min = None, None  # Z-axis boundaries\n",
    "    \n",
    "    # Test movement to points in a 3x3x3 grid\n",
    "    # Using 3 points per axis gives us the extremes and middle\n",
    "    for x in np.linspace(min_val, max_val, 3):\n",
    "        for y in np.linspace(min_val, max_val, 3):\n",
    "            for z in np.linspace(min_val, max_val, 3):\n",
    "\n",
    "                # Create target position vector\n",
    "                target_pos = [x, y, z]\n",
    "                \n",
    "                # Attempt to move robot to target position\n",
    "                move_to_target(sim, robotId, target_pos, velocity_scale=0.1, tolerance=0.001, timeout=20)\n",
    "                \n",
    "                # Get actual position achieved by robot\n",
    "                current_pos = get_states(sim, robotId)[\"pipette_position\"]\n",
    "                \n",
    "                # Update envelope boundaries if this point was at an extreme\n",
    "                if x == min_val: x_min = current_pos[0]  # Minimum x position\n",
    "                if x == max_val: x_max = current_pos[0]  # Maximum x position\n",
    "                if y == min_val: y_min = current_pos[1]  # Minimum y position\n",
    "                if y == max_val: y_max = current_pos[1]  # Maximum y position\n",
    "                if z == min_val: z_min = current_pos[2]  # Minimum z position\n",
    "                if z == max_val: z_max = current_pos[2]  # Maximum z position\n",
    "\n",
    "    # Return tuple containing all envelope boundaries\n",
    "    return (x_min, x_max, y_min, y_max, z_min, z_max)\n",
    "\n",
    "# Find and display the working envelope\n",
    "working_envelope = find_working_envelope(sim)\n",
    "print(\"Working envelope (x_min, x_max, y_min, y_max, z_min, z_max):\", working_envelope)"
   ]
  },
  {
   "cell_type": "code",
   "execution_count": null,
   "metadata": {},
   "outputs": [],
   "source": []
  },
  {
   "cell_type": "code",
   "execution_count": null,
   "metadata": {},
   "outputs": [],
   "source": []
  }
 ],
 "metadata": {
  "kernelspec": {
   "display_name": "plant2",
   "language": "python",
   "name": "python3"
  },
  "language_info": {
   "codemirror_mode": {
    "name": "ipython",
    "version": 3
   },
   "file_extension": ".py",
   "mimetype": "text/x-python",
   "name": "python",
   "nbconvert_exporter": "python",
   "pygments_lexer": "ipython3",
   "version": "3.9.21"
  }
 },
 "nbformat": 4,
 "nbformat_minor": 2
}
