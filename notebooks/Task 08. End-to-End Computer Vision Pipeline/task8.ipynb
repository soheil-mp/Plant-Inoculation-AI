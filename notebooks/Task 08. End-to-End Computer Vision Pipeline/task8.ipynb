version https://git-lfs.github.com/spec/v1
oid sha256:b068e9d4ea5b1849fafec8c603ec55960e74dbb5b78bb28fe8c7b7b6887be447
size 7997832
