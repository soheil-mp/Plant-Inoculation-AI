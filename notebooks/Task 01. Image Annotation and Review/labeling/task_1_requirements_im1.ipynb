version https://git-lfs.github.com/spec/v1
oid sha256:332a02585c1ea78724abd05362cd891711e09c1153898feb59eccbc57708c4d8
size 2033833
